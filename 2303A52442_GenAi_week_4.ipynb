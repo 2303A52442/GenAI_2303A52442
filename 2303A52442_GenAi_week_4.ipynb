{
  "cells": [
    {
      "cell_type": "markdown",
      "metadata": {
        "id": "3Ct4SNtflTjF"
      },
      "source": [
        "**Question-1**"
      ]
    },
    {
      "cell_type": "code",
      "execution_count": 8,
      "metadata": {
        "id": "StJIvpStjAeN"
      },
      "outputs": [],
      "source": [
        "training_data = [\n",
        "    [0.1, 0.2, 0.3, 0.14],\n",
        "    [0.2, 0.3, 0.4, 0.20],\n",
        "    [0.3, 0.4, 0.5, 0.26],\n",
        "    [0.5, 0.6, 0.7, 0.38],\n",
        "    [0.1, 0.3, 0.5, 0.22],\n",
        "    [0.2, 0.4, 0.6, 0.28],\n",
        "    [0.3, 0.5, 0.7, 0.34],\n",
        "    [0.4, 0.6, 0.8, 0.40],\n",
        "    [0.5, 0.7, 0.1, 0.22]\n",
        "]\n"
      ]
    },
    {
      "cell_type": "code",
      "execution_count": 9,
      "metadata": {
        "id": "wUZb6Bp2jGJ7"
      },
      "outputs": [],
      "source": [
        "test_data = [\n",
        "    [0.6, 0.7, 0.8, 0.44],\n",
        "    [0.7, 0.8, 0.9, 0.50]\n",
        "]"
      ]
    },
    {
      "cell_type": "code",
      "execution_count": 10,
      "metadata": {
        "id": "9RG4ySVzjIWc"
      },
      "outputs": [],
      "source": [
        "learning_rate = 0.01\n",
        "epochs = 1000\n",
        "w = [0.1, 0.2, 0.3]\n",
        "b = 0.001"
      ]
    },
    {
      "cell_type": "code",
      "execution_count": 11,
      "metadata": {
        "id": "WbHOnRjnjcy9"
      },
      "outputs": [],
      "source": [
        "def calculate_mse(data):\n",
        "    mse = 0\n",
        "    for row in data:\n",
        "        x1, x2, x3, y = row\n",
        "        y_pred = w[0]*x1 + w[1]*x2 + w[2]*x3 + b\n",
        "        mse += (y - y_pred) ** 2\n",
        "    return mse / len(data)"
      ]
    },
    {
      "cell_type": "code",
      "execution_count": 12,
      "metadata": {
        "colab": {
          "base_uri": "https://localhost:8080/"
        },
        "id": "jp1NjK7cjkrj",
        "outputId": "e2b4fb27-a4a7-4267-afb0-259bc7488f7a"
      },
      "outputs": [
        {
          "name": "stdout",
          "output_type": "stream",
          "text": [
            "Final weights: [0.10004645505997406, 0.1999557156881778, 0.30000061554441815]\n",
            "Final bias: 6.123685712106054e-06\n",
            "Training MSE: 4.791786731649241e-12\n",
            "Testing MSE: 1.319234188418755e-11\n"
          ]
        }
      ],
      "source": [
        "for epoch in range(epochs):\n",
        "    for row in training_data:\n",
        "        x1, x2, x3, y = row\n",
        "\n",
        "        y_pred = w[0]*x1 + w[1]*x2 + w[2]*x3 + b\n",
        "\n",
        "        error = y - y_pred\n",
        "        gw = [-2 * error * x1, -2 * error * x2, -2 * error * x3]\n",
        "        gb = -2 * error\n",
        "\n",
        "        w[0] -= learning_rate * gw[0]\n",
        "        w[1] -= learning_rate * gw[1]\n",
        "        w[2] -= learning_rate * gw[2]\n",
        "        b -= learning_rate * gb\n",
        "\n",
        "print(\"Final weights:\", w)\n",
        "print(\"Final bias:\", b)\n",
        "\n",
        "training_mse = calculate_mse(training_data)\n",
        "testing_mse = calculate_mse(test_data)\n",
        "print(\"Training MSE:\", training_mse)\n",
        "print(\"Testing MSE:\", testing_mse)\n",
        "\n"
      ]
    },
    {
      "cell_type": "code",
      "execution_count": 13,
      "metadata": {
        "colab": {
          "base_uri": "https://localhost:8080/"
        },
        "id": "kOLoy0Z3mS_-",
        "outputId": "6950e571-0c87-4434-c63c-35b4e3fde637"
      },
      "outputs": [
        {
          "name": "stdout",
          "output_type": "stream",
          "text": [
            "Predicted output for x1=0.3, x2=0.4, x3=0.5: 0.2600026542511846\n"
          ]
        }
      ],
      "source": [
        "def predict(x1, x2, x3):\n",
        "    return w[0]*x1 + w[1]*x2 + w[2]*x3 + b\n",
        "\n",
        "x1, x2, x3 = 0.3, 0.4, 0.5\n",
        "print(f\"Predicted output for x1={x1}, x2={x2}, x3={x3}:\", predict(x1, x2, x3))"
      ]
    },
    {
      "cell_type": "markdown",
      "metadata": {
        "id": "z11ht2DFlU5j"
      },
      "source": [
        "**Question-2**"
      ]
    },
    {
      "cell_type": "code",
      "execution_count": 14,
      "metadata": {
        "id": "_NrWkDKJbiLg"
      },
      "outputs": [],
      "source": [
        "training_data = [\n",
        "    [0.1, 0.2, 0.3, 0.5349],\n",
        "    [0.2, 0.3, 0.4, 0.5498],\n",
        "    [0.3, 0.4, 0.5, 0.5646],\n",
        "    [0.5, 0.6, 0.7, 0.5939],\n",
        "    [0.1, 0.3, 0.5, 0.5548],\n",
        "    [0.2, 0.4, 0.6, 0.5695],\n",
        "    [0.3, 0.5, 0.7, 0.5842],\n",
        "    [0.4, 0.6, 0.8, 0.5987],\n",
        "    [0.5, 0.7, 0.1, 0.5548]\n",
        "]\n"
      ]
    },
    {
      "cell_type": "code",
      "execution_count": 15,
      "metadata": {
        "id": "G1IwHx-abpJC"
      },
      "outputs": [],
      "source": [
        "test_data = [\n",
        "    [0.6, 0.7, 0.8, 0.6083],\n",
        "    [0.7, 0.8, 0.9, 0.6225]\n",
        "]"
      ]
    },
    {
      "cell_type": "code",
      "execution_count": 16,
      "metadata": {
        "id": "P5u_q3kwbved"
      },
      "outputs": [],
      "source": [
        "def sigmoid(x):\n",
        "    return 1 / (1 + exp(-x))\n",
        "\n",
        "def sigmoid_derivative(x):\n",
        "    sx = sigmoid(x)\n",
        "    return sx * (1 - sx)\n",
        "\n",
        "def exp(x):\n",
        "    n, result, term = 50, 1.0, 1.0\n",
        "    for i in range(1, n+1):\n",
        "        term *= x / i\n",
        "        result += term\n",
        "    return result"
      ]
    },
    {
      "cell_type": "code",
      "execution_count": 17,
      "metadata": {
        "id": "YlHMKJPAb4c6"
      },
      "outputs": [],
      "source": [
        "learning_rate = 0.01\n",
        "epochs = 1000"
      ]
    },
    {
      "cell_type": "code",
      "execution_count": 18,
      "metadata": {
        "colab": {
          "base_uri": "https://localhost:8080/"
        },
        "id": "e24Gr91ocBlx",
        "outputId": "67002004-9e9c-4c03-d729-452a69ceeade"
      },
      "outputs": [
        {
          "name": "stdout",
          "output_type": "stream",
          "text": [
            "Final weights: [0.0776120280107457, 0.10436438790332574, 0.15572435852827937]\n",
            "Final bias: 0.12614003421140754\n"
          ]
        }
      ],
      "source": [
        "w = [0.0, 0.0, 0.0]\n",
        "b = 0.0\n",
        "\n",
        "def calculate_mse(data):\n",
        "    mse = 0\n",
        "    for row in data:\n",
        "        x1, x2, x3, y = row\n",
        "        y_pred = sigmoid(w[0]*x1 + w[1]*x2 + w[2]*x3 + b)\n",
        "        mse += (y - y_pred) ** 2\n",
        "    return mse / len(data)\n",
        "\n",
        "for epoch in range(epochs):\n",
        "    for row in training_data:\n",
        "        x1, x2, x3, y = row\n",
        "\n",
        "        linear_output = w[0]*x1 + w[1]*x2 + w[2]*x3 + b\n",
        "        y_pred = sigmoid(linear_output)\n",
        "\n",
        "        error = y - y_pred\n",
        "        d_loss = -2 * error\n",
        "        gw = [d_loss * sigmoid_derivative(linear_output) * x1,\n",
        "              d_loss * sigmoid_derivative(linear_output) * x2,\n",
        "              d_loss * sigmoid_derivative(linear_output) * x3]\n",
        "        gb = d_loss * sigmoid_derivative(linear_output)\n",
        "\n",
        "        w[0] -= learning_rate * gw[0]\n",
        "        w[1] -= learning_rate * gw[1]\n",
        "        w[2] -= learning_rate * gw[2]\n",
        "        b -= learning_rate * gb\n",
        "\n",
        "print(\"Final weights:\", w)\n",
        "print(\"Final bias:\", b)"
      ]
    },
    {
      "cell_type": "code",
      "execution_count": 19,
      "metadata": {
        "colab": {
          "base_uri": "https://localhost:8080/"
        },
        "id": "5-mt444ScRE2",
        "outputId": "5134f45e-18c4-4dcc-d522-3d0555838227"
      },
      "outputs": [
        {
          "name": "stdout",
          "output_type": "stream",
          "text": [
            "Training MSE: 8.442888016922014e-05\n",
            "Testing MSE: 0.0004009086399242198\n",
            "Predicted output for x1=0.3, x2=0.4, x3=0.5: 0.5668551431108294\n"
          ]
        }
      ],
      "source": [
        "training_mse = calculate_mse(training_data)\n",
        "testing_mse = calculate_mse(test_data)\n",
        "print(\"Training MSE:\", training_mse)\n",
        "print(\"Testing MSE:\", testing_mse)\n",
        "def predict(x1, x2, x3):\n",
        "    return sigmoid(w[0]*x1 + w[1]*x2 + w[2]*x3 + b)\n",
        "\n",
        "x1, x2, x3 = 0.3, 0.4, 0.5\n",
        "print(f\"Predicted output for x1={x1}, x2={x2}, x3={x3}:\", predict(x1, x2, x3))"
      ]
    }
  ],
  "metadata": {
    "colab": {
      "provenance": []
    },
    "kernelspec": {
      "display_name": "Python 3",
      "name": "python3"
    },
    "language_info": {
      "name": "python"
    }
  },
  "nbformat": 4,
  "nbformat_minor": 0
}
