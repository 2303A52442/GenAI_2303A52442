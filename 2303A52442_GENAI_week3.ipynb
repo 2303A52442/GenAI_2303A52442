{
  "nbformat": 4,
  "nbformat_minor": 0,
  "metadata": {
    "colab": {
      "provenance": []
    },
    "kernelspec": {
      "name": "python3",
      "display_name": "Python 3"
    },
    "language_info": {
      "name": "python"
    }
  },
  "cells": [
    {
      "cell_type": "markdown",
      "source": [
        "**Function 1: f(x) = 5x^4 + 3x^2 + 10**   \n",
        "\n",
        "**Gradient: df/dx = 20x^3 + 6x**"
      ],
      "metadata": {
        "id": "dOBjh1CqSkN1"
      }
    },
    {
      "cell_type": "code",
      "execution_count": 5,
      "metadata": {
        "colab": {
          "base_uri": "https://localhost:8080/"
        },
        "id": "7-BPuW48Rsbo",
        "outputId": "a324c4f7-7228-4b4f-8874-91b791b88352"
      },
      "outputs": [
        {
          "output_type": "stream",
          "name": "stdout",
          "text": [
            "Minimum value of x: 0.0\n"
          ]
        }
      ],
      "source": [
        "def gradient_descent_f1(learning_rate=0.01, iterations=1000):\n",
        "    x = 0  # Initial guess\n",
        "    for _ in range(iterations):\n",
        "        gradient = 20*x**3 + 9*x**2  # Derivative of f(x)\n",
        "        x -= learning_rate * gradient\n",
        "    return x\n",
        "\n",
        "x_min = gradient_descent_f1()\n",
        "print(\"Minimum value of x:\", x_min)"
      ]
    },
    {
      "cell_type": "markdown",
      "source": [
        "**Function 2: g(x, y) = 3x^2 + 5e^(-y) + 10**\n",
        "\n",
        "**Gradients: dg/dx = 6x, dg/dy = -5e^(-y)**"
      ],
      "metadata": {
        "id": "nv6aDDKmS0OR"
      }
    },
    {
      "cell_type": "code",
      "source": [
        "def gradient_descent_f2(learning_rate=0.01, iterations=1000):\n",
        "    x, y = 0, 0  # Initial guesses\n",
        "    for _ in range(iterations):\n",
        "        grad_x = 6*x  # ∂g/∂x = 6x\n",
        "        grad_y = 5 * (2.71828 ** y)  # ∂g/∂y = 5e^y (approximating e ≈ 2.71828)\n",
        "        x -= learning_rate * grad_x\n",
        "        y -= learning_rate * grad_y\n",
        "    return x, y\n",
        "\n",
        "x_min, y_min = gradient_descent_f2()\n",
        "print(\"Minimum values: x =\", x_min, \", y =\", y_min)"
      ],
      "metadata": {
        "colab": {
          "base_uri": "https://localhost:8080/"
        },
        "id": "SzLipN5LR29s",
        "outputId": "54187fb7-a60f-4ab3-e4cc-823b628ac5db"
      },
      "execution_count": 6,
      "outputs": [
        {
          "output_type": "stream",
          "name": "stdout",
          "text": [
            "Minimum values: x = 0.0 , y = -3.933762227862872\n"
          ]
        }
      ]
    },
    {
      "cell_type": "markdown",
      "source": [
        "**Function 3: z(x) = 1 / (1 + e^(-x))**\n",
        "\n",
        "**Gradient: dz/dx = z(x) * (1 - z(x))**"
      ],
      "metadata": {
        "id": "fNI0KB_7TCOZ"
      }
    },
    {
      "cell_type": "code",
      "source": [
        "def gradient_descent_sigmoid(learning_rate=0.01, iterations=1000):\n",
        "    z = 0  # Initial guess\n",
        "    for _ in range(iterations):\n",
        "        sigmoid = 1 / (1 + 2.71828**(-z))\n",
        "        gradient = sigmoid * (1 - sigmoid)  # Derivative of sigmoid function\n",
        "        z -= learning_rate * gradient\n",
        "    return z\n",
        "\n",
        "z_min = gradient_descent_sigmoid()\n",
        "print(\"Minimum value of z:\", z_min)"
      ],
      "metadata": {
        "colab": {
          "base_uri": "https://localhost:8080/"
        },
        "id": "vQnDuKkSR8c5",
        "outputId": "8a70e92c-5256-4a41-daef-b5fcf8fb2daa"
      },
      "execution_count": 7,
      "outputs": [
        {
          "output_type": "stream",
          "name": "stdout",
          "text": [
            "Minimum value of z: -1.8618359316575634\n"
          ]
        }
      ]
    },
    {
      "cell_type": "markdown",
      "source": [
        "**Function 4: AI Model with parameters M and C**\n",
        "\n",
        "**Output = M * Input + C**\n",
        "\n",
        "**Square Error: SE = (Expected - Predicted)^2**\n",
        "\n",
        "Gradients: dSE/dM = -2 * Input * (Expected - Predicted), dSE/dC = -2  (Expected - Predicted *italicized text*  "
      ],
      "metadata": {
        "id": "2vlzJEhZTuPH"
      }
    },
    {
      "cell_type": "code",
      "source": [
        "def gradient_descent_ai_model(learning_rate=0.01, iterations=1000):\n",
        "    M, C = 0.0, 0.0  # Initial guesses\n",
        "    x_input = 2  # Given input\n",
        "    expected_output = 0.5\n",
        "\n",
        "    for _ in range(iterations):\n",
        "        y_pred = M * x_input + C\n",
        "        error = y_pred - expected_output\n",
        "\n",
        "        # Partial derivatives\n",
        "        grad_M = 2 * error * x_input\n",
        "        grad_C = 2 * error\n",
        "\n",
        "        # Update parameters\n",
        "        M -= learning_rate * grad_M\n",
        "        C -= learning_rate * grad_C\n",
        "\n",
        "    return M, C\n",
        "\n",
        "M_opt, C_opt = gradient_descent_ai_model()\n",
        "print(\"Optimal M:\", M_opt, \"Optimal C:\", C_opt)"
      ],
      "metadata": {
        "colab": {
          "base_uri": "https://localhost:8080/"
        },
        "id": "gPzsz_pefPtN",
        "outputId": "5d31a930-51e5-49cf-85ac-78ae72c87deb"
      },
      "execution_count": 9,
      "outputs": [
        {
          "output_type": "stream",
          "name": "stdout",
          "text": [
            "Optimal M: 0.19999999999999987 Optimal C: 0.09999999999999994\n"
          ]
        }
      ]
    }
  ]
}